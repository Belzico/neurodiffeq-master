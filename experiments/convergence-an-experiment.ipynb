{
 "cells": [
  {
   "cell_type": "code",
   "execution_count": 1,
   "metadata": {},
   "outputs": [],
   "source": [
    "import numpy as np\n",
    "import torch\n",
    "from torch import nn, optim\n",
    "import matplotlib.pyplot as plt\n",
    "from neurodiffeq import diff      \n",
    "from neurodiffeq.ode import IVP, solve_system, Monitor, ExampleGenerator\n",
    "from neurodiffeq.networks import FCNN, SinActv \n",
    "import pickle"
   ]
  },
  {
   "cell_type": "code",
   "execution_count": 2,
   "metadata": {},
   "outputs": [],
   "source": [
    "FROM, TO = 0., 5.\n",
    "N_NODE = 64\n",
    "TRAIN_SIZE = 256 \n",
    "VALID_SIZE = 10\n",
    "MAX_EPOCHS = 10"
   ]
  },
  {
   "cell_type": "code",
   "execution_count": 3,
   "metadata": {},
   "outputs": [],
   "source": [
    "torch.set_default_tensor_type('torch.DoubleTensor')"
   ]
  },
  {
   "cell_type": "code",
   "execution_count": 4,
   "metadata": {
    "scrolled": false
   },
   "outputs": [],
   "source": [
    "# %matplotlib notebook\n",
    "\n",
    "# odes = lambda x, y, t : [diff(x, t) + t*y,\n",
    "#                          diff(y, t) - t*x]\n",
    "\n",
    "# ivps = [\n",
    "#     IVP(t_0=0., x_0=1.),\n",
    "#     IVP(t_0=0., x_0=0.)\n",
    "# ]\n",
    "\n",
    "# nets = [\n",
    "#     FCNN(n_hidden_units=N_NODE, n_hidden_layers=1, actv=SinActv),\n",
    "#     FCNN(n_hidden_units=N_NODE, n_hidden_layers=1, actv=SinActv)\n",
    "# ]\n",
    "\n",
    "# train_gen = ExampleGenerator(TRAIN_SIZE, t_min=FROM, t_max=TO, method='equally-spaced')\n",
    "# valid_gen = ExampleGenerator(VALID_SIZE, t_min=FROM, t_max=TO, method='equally-spaced')\n",
    "\n",
    "# def rmse(x, y, t):\n",
    "#     true_x = torch.cos(t**2/2)\n",
    "#     true_y = torch.sin(t**2/2)\n",
    "#     x_sse = torch.sum((x - true_x) ** 2)\n",
    "#     y_sse = torch.sum((y - true_y) ** 2)\n",
    "#     return torch.sqrt( (x_sse+y_sse)/(len(x)+len(y)) )\n",
    "\n",
    "# solution, history = solve_system(\n",
    "#     ode_system=odes, \n",
    "#     conditions=ivps, \n",
    "#     t_min=FROM, t_max=TO,\n",
    "#     nets=nets,\n",
    "#     train_generator=train_gen,\n",
    "#     valid_generator=valid_gen,\n",
    "#     batch_size=TRAIN_SIZE,\n",
    "#     max_epochs=MAX_EPOCHS,\n",
    "#     monitor=Monitor(t_min=FROM, t_max=TO, check_every=100),\n",
    "#     metrics={'rmse': rmse},\n",
    "#     return_best=True\n",
    "# )"
   ]
  },
  {
   "cell_type": "code",
   "execution_count": 5,
   "metadata": {},
   "outputs": [],
   "source": [
    "# with open(f'output/solution-node{N_NODE}-train{TRAIN_SIZE}', 'wb') as pklfile:\n",
    "#     pickle.dump(solution, pklfile)"
   ]
  },
  {
   "cell_type": "code",
   "execution_count": 6,
   "metadata": {},
   "outputs": [],
   "source": [
    "# with open(f'output/solution-node{N_NODE}-train{TRAIN_SIZE}', 'rb') as pklfile:\n",
    "#     solution_loaded = pickle.load(pklfile)"
   ]
  },
  {
   "cell_type": "code",
   "execution_count": 7,
   "metadata": {},
   "outputs": [],
   "source": [
    "# with open(f'output/history-node{N_NODE}-train{TRAIN_SIZE}', 'wb') as pklfile:\n",
    "#     pickle.dump(history, pklfile)"
   ]
  },
  {
   "cell_type": "code",
   "execution_count": 8,
   "metadata": {},
   "outputs": [],
   "source": [
    "# with open(f'output/history-node{N_NODE}-train{TRAIN_SIZE}', 'rb') as pklfile:\n",
    "#     history_loaded = pickle.load(pklfile)"
   ]
  },
  {
   "cell_type": "code",
   "execution_count": 9,
   "metadata": {},
   "outputs": [],
   "source": [
    "def run_experiment(n_node, train_size):\n",
    "    N_NODE = n_node\n",
    "    TRAIN_SIZE = train_size\n",
    "    \n",
    "    odes = lambda x, y, t : [diff(x, t) + t*y,\n",
    "                         diff(y, t) - t*x]\n",
    "\n",
    "    ivps = [\n",
    "        IVP(t_0=0., x_0=1.),\n",
    "        IVP(t_0=0., x_0=0.)\n",
    "    ]\n",
    "\n",
    "    nets = [\n",
    "        FCNN(n_hidden_units=N_NODE, n_hidden_layers=1, actv=SinActv),\n",
    "        FCNN(n_hidden_units=N_NODE, n_hidden_layers=1, actv=SinActv)\n",
    "    ]\n",
    "\n",
    "    train_gen = ExampleGenerator(TRAIN_SIZE, t_min=FROM, t_max=TO, method='equally-spaced')\n",
    "    valid_gen = ExampleGenerator(VALID_SIZE, t_min=FROM, t_max=TO, method='equally-spaced')\n",
    "\n",
    "    def rmse(x, y, t):\n",
    "        true_x = torch.cos(t**2/2)\n",
    "        true_y = torch.sin(t**2/2)\n",
    "        x_sse = torch.sum((x - true_x) ** 2)\n",
    "        y_sse = torch.sum((y - true_y) ** 2)\n",
    "        return torch.sqrt( (x_sse+y_sse)/(len(x)+len(y)) )\n",
    "\n",
    "    solution, history = solve_system(\n",
    "        ode_system=odes, \n",
    "        conditions=ivps, \n",
    "        t_min=FROM, t_max=TO,\n",
    "        nets=nets,\n",
    "        train_generator=train_gen,\n",
    "        valid_generator=valid_gen,\n",
    "        batch_size=TRAIN_SIZE,\n",
    "        max_epochs=MAX_EPOCHS,\n",
    "        metrics={'rmse': rmse},\n",
    "        return_best=True\n",
    "    )\n",
    "    \n",
    "    with open(f'output/solution-node{N_NODE}-train{TRAIN_SIZE}', 'wb') as pklfile:\n",
    "        pickle.dump(solution, pklfile)\n",
    "    with open(f'output/history-node{N_NODE}-train{TRAIN_SIZE}', 'wb') as pklfile:\n",
    "        pickle.dump(history, pklfile)\n",
    "        \n",
    "    print(f'{n_node} nodes + {train_size} training points finished')"
   ]
  },
  {
   "cell_type": "code",
   "execution_count": 10,
   "metadata": {},
   "outputs": [
    {
     "name": "stdout",
     "output_type": "stream",
     "text": [
      "8 nodes + 8 training points finished\n",
      "8 nodes + 16 training points finished\n",
      "8 nodes + 32 training points finished\n",
      "8 nodes + 64 training points finished\n",
      "8 nodes + 128 training points finished\n",
      "16 nodes + 8 training points finished\n",
      "16 nodes + 16 training points finished\n",
      "16 nodes + 32 training points finished\n",
      "16 nodes + 64 training points finished\n",
      "16 nodes + 128 training points finished\n",
      "32 nodes + 8 training points finished\n",
      "32 nodes + 16 training points finished\n",
      "32 nodes + 32 training points finished\n",
      "32 nodes + 64 training points finished\n",
      "32 nodes + 128 training points finished\n",
      "64 nodes + 8 training points finished\n",
      "64 nodes + 16 training points finished\n",
      "64 nodes + 32 training points finished\n",
      "64 nodes + 64 training points finished\n",
      "64 nodes + 128 training points finished\n",
      "128 nodes + 8 training points finished\n",
      "128 nodes + 16 training points finished\n",
      "128 nodes + 32 training points finished\n",
      "128 nodes + 64 training points finished\n",
      "128 nodes + 128 training points finished\n"
     ]
    }
   ],
   "source": [
    "for n_node in [8, 16, 32, 64, 128]:\n",
    "    for train_size in [8, 16, 32, 64, 128]:\n",
    "        run_experiment(n_node, train_size)"
   ]
  }
 ],
 "metadata": {
  "kernelspec": {
   "display_name": "Python 3",
   "language": "python",
   "name": "python3"
  },
  "language_info": {
   "codemirror_mode": {
    "name": "ipython",
    "version": 3
   },
   "file_extension": ".py",
   "mimetype": "text/x-python",
   "name": "python",
   "nbconvert_exporter": "python",
   "pygments_lexer": "ipython3",
   "version": "3.7.4"
  }
 },
 "nbformat": 4,
 "nbformat_minor": 2
}
